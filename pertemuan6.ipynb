{
  "nbformat": 4,
  "nbformat_minor": 0,
  "metadata": {
    "colab": {
      "name": "pertemuan6.ipynb",
      "provenance": [],
      "collapsed_sections": [],
      "authorship_tag": "ABX9TyPdoq55rs6LAC3KxZJOuvgg",
      "include_colab_link": true
    },
    "kernelspec": {
      "name": "python3",
      "display_name": "Python 3"
    },
    "language_info": {
      "name": "python"
    }
  },
  "cells": [
    {
      "cell_type": "markdown",
      "metadata": {
        "id": "view-in-github",
        "colab_type": "text"
      },
      "source": [
        "<a href=\"https://colab.research.google.com/github/lilipolinema/TeknologiData/blob/master/pertemuan6.ipynb\" target=\"_parent\"><img src=\"https://colab.research.google.com/assets/colab-badge.svg\" alt=\"Open In Colab\"/></a>"
      ]
    },
    {
      "cell_type": "code",
      "metadata": {
        "id": "33fbQoo1l3Iu"
      },
      "source": [
        "# Membuat dictionary kosong\n",
        "my_dict = {}"
      ],
      "execution_count": 1,
      "outputs": []
    },
    {
      "cell_type": "code",
      "metadata": {
        "id": "ntm0P71SmFsD"
      },
      "source": [
        "# dictionary dengan kunci integer\n",
        "my_dict = {1: 'sepatu', 2: 'tas'}"
      ],
      "execution_count": 3,
      "outputs": []
    },
    {
      "cell_type": "code",
      "metadata": {
        "id": "tK6mP7pymJ37"
      },
      "source": [
        "# dictionary dengan kunci campuran\n",
        "my_dict = {'warna': 'merah', 1: [2,3,5]}"
      ],
      "execution_count": 4,
      "outputs": []
    },
    {
      "cell_type": "markdown",
      "metadata": {
        "id": "HfTJDR5tmhec"
      },
      "source": [
        "mengakses anggota dictionary"
      ]
    },
    {
      "cell_type": "code",
      "metadata": {
        "colab": {
          "base_uri": "https://localhost:8080/"
        },
        "id": "JMLwFXvtmj5I",
        "outputId": "f88c5837-8dd0-4a9e-adaf-89f58d7ddc53"
      },
      "source": [
        "my_dict = {'nama':'Budi', 'usia':27} \n",
        "# output: Budi \n",
        "print(my_dict['nama']) \n",
        "# output 27 \n",
        "print(my_dict.get('usia'))"
      ],
      "execution_count": 9,
      "outputs": [
        {
          "output_type": "stream",
          "text": [
            "Budi\n",
            "27\n"
          ],
          "name": "stdout"
        }
      ]
    },
    {
      "cell_type": "code",
      "metadata": {
        "colab": {
          "base_uri": "https://localhost:8080/",
          "height": 180
        },
        "id": "zQHDu62ZmmxD",
        "outputId": "bd6dbfde-1691-46d1-83f2-0bd973f2cbaa"
      },
      "source": [
        "# Mengakses kunci yang tidak tersedia menyebabkan KeyError\n",
        "my_dict['alamat']"
      ],
      "execution_count": 10,
      "outputs": [
        {
          "output_type": "error",
          "ename": "KeyError",
          "evalue": "ignored",
          "traceback": [
            "\u001b[0;31m---------------------------------------------------------------------------\u001b[0m",
            "\u001b[0;31mKeyError\u001b[0m                                  Traceback (most recent call last)",
            "\u001b[0;32m<ipython-input-10-75c63bd29e53>\u001b[0m in \u001b[0;36m<module>\u001b[0;34m()\u001b[0m\n\u001b[1;32m      1\u001b[0m \u001b[0;31m# Mengakses kunci yang tidak tersedia menyebabkan KeyError\u001b[0m\u001b[0;34m\u001b[0m\u001b[0;34m\u001b[0m\u001b[0;34m\u001b[0m\u001b[0m\n\u001b[0;32m----> 2\u001b[0;31m \u001b[0mmy_dict\u001b[0m\u001b[0;34m[\u001b[0m\u001b[0;34m'alamat'\u001b[0m\u001b[0;34m]\u001b[0m\u001b[0;34m\u001b[0m\u001b[0;34m\u001b[0m\u001b[0m\n\u001b[0m",
            "\u001b[0;31mKeyError\u001b[0m: 'alamat'"
          ]
        }
      ]
    },
    {
      "cell_type": "code",
      "metadata": {
        "colab": {
          "base_uri": "https://localhost:8080/"
        },
        "id": "U9v7F5smmrR7",
        "outputId": "83df862f-e73f-435d-ace4-7bba108630e1"
      },
      "source": [
        "my_dict = {'nama':'Gani', 'usia':35} \n",
        "# mengupdate nilai \n",
        "my_dict['usia'] = 36 \n",
        "# Output: {'nama': 'Gani', 'usia':36} \n",
        "print(my_dict) \n",
        "# menambah anggota \n",
        "my_dict['alamat'] = 'Medan'\n",
        "# output: {'alamat': 'Medan', 'nama':'Gani', 'usia':36} \n",
        "print(my_dict)"
      ],
      "execution_count": 11,
      "outputs": [
        {
          "output_type": "stream",
          "text": [
            "{'nama': 'Gani', 'usia': 36}\n",
            "{'nama': 'Gani', 'usia': 36, 'alamat': 'Medan'}\n"
          ],
          "name": "stdout"
        }
      ]
    },
    {
      "cell_type": "code",
      "metadata": {
        "id": "6mLu97qxmv2x"
      },
      "source": [
        "# membuat dictionary baru\n",
        "pangkat = {1:1, 2:4, 3:9, 4:16, 5:25}"
      ],
      "execution_count": 12,
      "outputs": []
    },
    {
      "cell_type": "code",
      "metadata": {
        "colab": {
          "base_uri": "https://localhost:8080/"
        },
        "id": "an0C_MQwmzRZ",
        "outputId": "ab37de27-17f5-4d09-9cbd-5cc1f5cb6b2f"
      },
      "source": [
        "# menghapus anggota tertentu\n",
        "# output: 9\n",
        "print(pangkat.pop(3))"
      ],
      "execution_count": 13,
      "outputs": [
        {
          "output_type": "stream",
          "text": [
            "9\n"
          ],
          "name": "stdout"
        }
      ]
    },
    {
      "cell_type": "code",
      "metadata": {
        "colab": {
          "base_uri": "https://localhost:8080/"
        },
        "id": "5Ynk-b8Om19E",
        "outputId": "c812b781-b213-4e06-f5bd-3ae1c5b4f65f"
      },
      "source": [
        "# menghapus anggota secara acak\n",
        "# output: (1,1)\n",
        "print(pangkat.popitem())"
      ],
      "execution_count": 14,
      "outputs": [
        {
          "output_type": "stream",
          "text": [
            "(5, 25)\n"
          ],
          "name": "stdout"
        }
      ]
    },
    {
      "cell_type": "code",
      "metadata": {
        "colab": {
          "base_uri": "https://localhost:8080/"
        },
        "id": "bVTRtr17m4zJ",
        "outputId": "ffdb7d77-7a6d-4147-ff15-44fbc84c8799"
      },
      "source": [
        "# yang tersisa adalah {2:4, 4:16, 5:25}\n",
        "print(pangkat)"
      ],
      "execution_count": 15,
      "outputs": [
        {
          "output_type": "stream",
          "text": [
            "{1: 1, 2: 4, 4: 16}\n"
          ],
          "name": "stdout"
        }
      ]
    },
    {
      "cell_type": "code",
      "metadata": {
        "colab": {
          "base_uri": "https://localhost:8080/"
        },
        "id": "TumD8swQnDAm",
        "outputId": "e1ad0195-0756-4af2-e4a9-7b6a2560543e"
      },
      "source": [
        "# output: {2:4, 4:16}\n",
        "print(pangkat)"
      ],
      "execution_count": 17,
      "outputs": [
        {
          "output_type": "stream",
          "text": [
            "{1: 1, 2: 4, 4: 16}\n"
          ],
          "name": "stdout"
        }
      ]
    },
    {
      "cell_type": "code",
      "metadata": {
        "id": "7TuLxEDDnK4r"
      },
      "source": [
        "# menghapus semua anggota\n",
        "pangkat.clear()"
      ],
      "execution_count": 18,
      "outputs": []
    },
    {
      "cell_type": "code",
      "metadata": {
        "id": "GhSryC6MnNvT"
      },
      "source": [
        "# menghapus dictionary pangkat\n",
        "del pangkat"
      ],
      "execution_count": 19,
      "outputs": []
    },
    {
      "cell_type": "code",
      "metadata": {
        "colab": {
          "base_uri": "https://localhost:8080/",
          "height": 180
        },
        "id": "BlVMeUmdnQMn",
        "outputId": "722eeba1-a49b-4865-e6c8-52f75186e11f"
      },
      "source": [
        "# Error karena pangkat sudah dihapus\n",
        "print(pangkat)"
      ],
      "execution_count": 20,
      "outputs": [
        {
          "output_type": "error",
          "ename": "NameError",
          "evalue": "ignored",
          "traceback": [
            "\u001b[0;31m---------------------------------------------------------------------------\u001b[0m",
            "\u001b[0;31mNameError\u001b[0m                                 Traceback (most recent call last)",
            "\u001b[0;32m<ipython-input-20-7f4c7817a0f0>\u001b[0m in \u001b[0;36m<module>\u001b[0;34m()\u001b[0m\n\u001b[1;32m      1\u001b[0m \u001b[0;31m# Error karena pangkat sudah dihapus\u001b[0m\u001b[0;34m\u001b[0m\u001b[0;34m\u001b[0m\u001b[0;34m\u001b[0m\u001b[0m\n\u001b[0;32m----> 2\u001b[0;31m \u001b[0mprint\u001b[0m\u001b[0;34m(\u001b[0m\u001b[0mpangkat\u001b[0m\u001b[0;34m)\u001b[0m\u001b[0;34m\u001b[0m\u001b[0;34m\u001b[0m\u001b[0m\n\u001b[0m",
            "\u001b[0;31mNameError\u001b[0m: name 'pangkat' is not defined"
          ]
        }
      ]
    },
    {
      "cell_type": "code",
      "metadata": {
        "colab": {
          "base_uri": "https://localhost:8080/"
        },
        "id": "SdPvyZ7snTR2",
        "outputId": "6cc145dc-63a4-43bb-b284-ea5409f5cdea"
      },
      "source": [
        "def sapa(nama): \n",
        " \"\"\"Fungsi ini untuk menyapa seseorang sesuai nama yang dimasukkan \n",
        "sebagai parameter\"\"\" \n",
        " print(\"Hi, \" + nama + \". Apa kabar?\") \n",
        " # pemanggilan fungsi \n",
        "# output: Hi, Umar. Apa kabar? \n",
        "sapa('Umar')"
      ],
      "execution_count": 21,
      "outputs": [
        {
          "output_type": "stream",
          "text": [
            "Hi, Umar. Apa kabar?\n"
          ],
          "name": "stdout"
        }
      ]
    },
    {
      "cell_type": "code",
      "metadata": {
        "colab": {
          "base_uri": "https://localhost:8080/"
        },
        "id": "dknQX2q9nXJD",
        "outputId": "0c4d81c2-96e0-468b-a320-0ea965cade3d"
      },
      "source": [
        "def sapa(nama): \n",
        " \"\"\"Fungsi ini untuk menyapa seseorang sesuai nama yang dimasukkan \n",
        "sebagai parameter\"\"\" \n",
        " print(\"Hi, \" + nama + \". Apa kabar?\") \n",
        " # pemanggilan fungsi \n",
        "# output: Hi, Umar. Apa kabar? \n",
        "sapa('Galih')"
      ],
      "execution_count": 22,
      "outputs": [
        {
          "output_type": "stream",
          "text": [
            "Hi, Galih. Apa kabar?\n"
          ],
          "name": "stdout"
        }
      ]
    },
    {
      "cell_type": "code",
      "metadata": {
        "colab": {
          "base_uri": "https://localhost:8080/"
        },
        "id": "8qBszG7rnZzY",
        "outputId": "ecb65e83-9809-42bf-fb48-a906fae6f037"
      },
      "source": [
        "def sapa(nama): \n",
        " \"\"\"Fungsi ini untuk menyapa seseorang sesuai nama yang dimasukkan \n",
        "sebagai parameter\"\"\" \n",
        " print(\"Hi, \" + nama + \". Apa kabar?\") \n",
        " # pemanggilan fungsi \n",
        "# output: Hi, Umar. Apa kabar? \n",
        "sapa('Ratna')"
      ],
      "execution_count": 23,
      "outputs": [
        {
          "output_type": "stream",
          "text": [
            "Hi, Ratna. Apa kabar?\n"
          ],
          "name": "stdout"
        }
      ]
    },
    {
      "cell_type": "code",
      "metadata": {
        "colab": {
          "base_uri": "https://localhost:8080/"
        },
        "id": "12znZx4UnfPA",
        "outputId": "76ae4b4e-da52-4c06-a07f-99147c86e3bc"
      },
      "source": [
        "def sapa(nama): \n",
        " \"\"\"Fungsi ini untuk menyapa seseorang sesuai nama yang dimasukkan \n",
        "sebagai parameter\"\"\" \n",
        "print(sapa.__doc__)\n",
        " # pemanggilan fungsi \n",
        "# output: Hi, Umar. Apa kabar? \n",
        "sapa('Ratna')"
      ],
      "execution_count": 24,
      "outputs": [
        {
          "output_type": "stream",
          "text": [
            "Fungsi ini untuk menyapa seseorang sesuai nama yang dimasukkan \n",
            "sebagai parameter\n"
          ],
          "name": "stdout"
        }
      ]
    },
    {
      "cell_type": "code",
      "metadata": {
        "colab": {
          "base_uri": "https://localhost:8080/"
        },
        "id": "Ffgo97funiOd",
        "outputId": "c024701a-d3fe-449d-b107-89327a6ce5ed"
      },
      "source": [
        "keluaran = sapa('Gani')\n",
        "print(keluaran)"
      ],
      "execution_count": 25,
      "outputs": [
        {
          "output_type": "stream",
          "text": [
            "None\n"
          ],
          "name": "stdout"
        }
      ]
    },
    {
      "cell_type": "code",
      "metadata": {
        "id": "tckVti2Lnkjf"
      },
      "source": [
        "sapa('Umar')"
      ],
      "execution_count": 27,
      "outputs": []
    },
    {
      "cell_type": "code",
      "metadata": {
        "colab": {
          "base_uri": "https://localhost:8080/",
          "height": 180
        },
        "id": "AUF-o8kBnpxt",
        "outputId": "f10a90dc-2c98-4903-a330-ea6984dd2285"
      },
      "source": [
        "# akan muncul \n",
        "sapa()"
      ],
      "execution_count": 28,
      "outputs": [
        {
          "output_type": "error",
          "ename": "TypeError",
          "evalue": "ignored",
          "traceback": [
            "\u001b[0;31m---------------------------------------------------------------------------\u001b[0m",
            "\u001b[0;31mTypeError\u001b[0m                                 Traceback (most recent call last)",
            "\u001b[0;32m<ipython-input-28-89a90f5c2883>\u001b[0m in \u001b[0;36m<module>\u001b[0;34m()\u001b[0m\n\u001b[1;32m      1\u001b[0m \u001b[0;31m# akan muncul\u001b[0m\u001b[0;34m\u001b[0m\u001b[0;34m\u001b[0m\u001b[0;34m\u001b[0m\u001b[0m\n\u001b[0;32m----> 2\u001b[0;31m \u001b[0msapa\u001b[0m\u001b[0;34m(\u001b[0m\u001b[0;34m)\u001b[0m\u001b[0;34m\u001b[0m\u001b[0;34m\u001b[0m\u001b[0m\n\u001b[0m",
            "\u001b[0;31mTypeError\u001b[0m: sapa() missing 1 required positional argument: 'nama'"
          ]
        }
      ]
    },
    {
      "cell_type": "code",
      "metadata": {
        "colab": {
          "base_uri": "https://localhost:8080/"
        },
        "id": "YcCvLPNinrKT",
        "outputId": "0f3b3554-d89b-41e4-a950-94737a098348"
      },
      "source": [
        "# definisi fungsi print_string \n",
        "def print_string( str ): \n",
        " \"\"\"Menampilkan argumen string str ke layar\"\"\" \n",
        " print (str) \n",
        "# Kita memanggil fungsi dengan kata kunci \n",
        "print_string( str = \"Hello Python\")"
      ],
      "execution_count": 29,
      "outputs": [
        {
          "output_type": "stream",
          "text": [
            "Hello Python\n"
          ],
          "name": "stdout"
        }
      ]
    },
    {
      "cell_type": "code",
      "metadata": {
        "colab": {
          "base_uri": "https://localhost:8080/"
        },
        "id": "7GGTfMjbnvfQ",
        "outputId": "29657509-e956-490b-82fb-b54fed428f61"
      },
      "source": [
        "# Definisi fungsi \n",
        "def print_info( nama, usia ): \n",
        " \"\"\"Fungsi ini menampilkan info yang dimasukkan\"\"\"\n",
        " print (\"Nama: \", nama) \n",
        " print (\"Usia: \", usia) \n",
        "# Memanggil fungsi \n",
        "# output \n",
        "# Name: Budi \n",
        "# Usia: 25 \n",
        "print_info( usia = 25, nama = \"Budi\" )"
      ],
      "execution_count": 30,
      "outputs": [
        {
          "output_type": "stream",
          "text": [
            "Nama:  Budi\n",
            "Usia:  25\n"
          ],
          "name": "stdout"
        }
      ]
    },
    {
      "cell_type": "code",
      "metadata": {
        "colab": {
          "base_uri": "https://localhost:8080/"
        },
        "id": "6snSFCTJnzZn",
        "outputId": "053ba7a9-1213-466a-b491-f3689e4b2c36"
      },
      "source": [
        "# Definisi fungsi \n",
        "def print_info( nama, usia= 17 ): \n",
        " \"\"\"Fungsi ini menampilkan info yang dimasukkan\"\"\" \n",
        " print (\"Nama: \", nama) \n",
        " print (\"Usia \", usia) \n",
        "# Memanggil fungsi print_info \n",
        "print_info( usia = 29, nama = \"Galih\" ) \n",
        "# Pemanggilan fungsi tidak menyediakan argumen usia \n",
        "print_info( nama = \"Galih\" )"
      ],
      "execution_count": 31,
      "outputs": [
        {
          "output_type": "stream",
          "text": [
            "Nama:  Galih\n",
            "Usia  29\n",
            "Nama:  Galih\n",
            "Usia  17\n"
          ],
          "name": "stdout"
        }
      ]
    },
    {
      "cell_type": "code",
      "metadata": {
        "colab": {
          "base_uri": "https://localhost:8080/"
        },
        "id": "W9Oh_8fKn1zj",
        "outputId": "50c2a2d0-1827-4997-bd3c-c9a2953ceb33"
      },
      "source": [
        "# Definisi fungsi\n",
        "def print_info( arg1, *vartuple ):\n",
        " \"\"\"Fungsi untuk menampilkan nilai argumen sembarang yang\n",
        "dilewatkan\"\"\"\n",
        " print (\"Outputnya adalah: \")\n",
        " print (arg1)\n",
        " for var in vartuple:\n",
        "    print (var)\n",
        "# Pemanggilan fungsi\n",
        "# Satu argumen\n",
        "print_info( 10 )"
      ],
      "execution_count": 32,
      "outputs": [
        {
          "output_type": "stream",
          "text": [
            "Outputnya adalah: \n",
            "10\n"
          ],
          "name": "stdout"
        }
      ]
    },
    {
      "cell_type": "code",
      "metadata": {
        "colab": {
          "base_uri": "https://localhost:8080/"
        },
        "id": "QS3fGNJDn4h-",
        "outputId": "c938f699-b824-4754-c7f3-d8969cd0e3f8"
      },
      "source": [
        "# Empat argumen\n",
        "print_info( 10, 30, 50, 70 )"
      ],
      "execution_count": 33,
      "outputs": [
        {
          "output_type": "stream",
          "text": [
            "Outputnya adalah: \n",
            "10\n",
            "30\n",
            "50\n",
            "70\n"
          ],
          "name": "stdout"
        }
      ]
    },
    {
      "cell_type": "code",
      "metadata": {
        "colab": {
          "base_uri": "https://localhost:8080/"
        },
        "id": "i3J5vAk8n557",
        "outputId": "6eefb542-0240-4e0d-8beb-7218cd7e80fc"
      },
      "source": [
        "total = 0\n",
        "def sum( arg1, arg2 ): \n",
        " \"\"\"Menambahkan variabel dan mengembalikan hasilnya.\"\"\"\n",
        " total = arg1 + arg2; \n",
        " # total di sini adalah variabel lokal \n",
        " print(\"Di dalam fungsi nilai total : \", total) \n",
        " return total \n",
        "# Pemanggilan fungsi sum \n",
        "sum( 10, 20 ) \n",
        "print(\"Di luar fungsi, nilai total : \", total)"
      ],
      "execution_count": 34,
      "outputs": [
        {
          "output_type": "stream",
          "text": [
            "Di dalam fungsi nilai total :  30\n",
            "Di luar fungsi, nilai total :  0\n"
          ],
          "name": "stdout"
        }
      ]
    },
    {
      "cell_type": "code",
      "metadata": {
        "id": "_CNsdfAOn-DG"
      },
      "source": [
        "# Contoh modul python\n",
        "def jumlah(a, b):\n",
        " \"\"\"Fungsi ini menambahkan dua bilangan\n",
        " dan mengembalikan hasilnya\"\"\"\n",
        " result = a + b\n",
        " return result"
      ],
      "execution_count": 36,
      "outputs": []
    },
    {
      "cell_type": "code",
      "metadata": {
        "colab": {
          "base_uri": "https://localhost:8080/"
        },
        "id": "916a0CikoZIH",
        "outputId": "b6763215-ca38-4f5b-a102-3ab1d8affc72"
      },
      "source": [
        "# import modul sys untuk memperoleh jenis eksepsi\n",
        "import sys\n",
        "lists = ['a', 0, 4]\n",
        "for each in lists:\n",
        " try:\n",
        "  print(\"Masukan:\", each)\n",
        "  r = 1/int(each)\n",
        "  break\n",
        " except:\n",
        "  print(\"Upps!\", sys.exc_info()[0], \" terjadi.\")\n",
        "  print(\"Masukan berikutnya.\")\n",
        "  print()\n",
        "print(\"Kebalikan dari \", each, \" =\", r)"
      ],
      "execution_count": 40,
      "outputs": [
        {
          "output_type": "stream",
          "text": [
            "Masukan: a\n",
            "Upps! <class 'ValueError'>  terjadi.\n",
            "Masukan berikutnya.\n",
            "\n",
            "Masukan: 0\n",
            "Upps! <class 'ZeroDivisionError'>  terjadi.\n",
            "Masukan berikutnya.\n",
            "\n",
            "Masukan: 4\n",
            "Kebalikan dari  4  = 0.25\n"
          ],
          "name": "stdout"
        }
      ]
    },
    {
      "cell_type": "code",
      "metadata": {
        "colab": {
          "base_uri": "https://localhost:8080/"
        },
        "id": "ArizKk7EoNAN",
        "outputId": "ad7bd7a8-98d0-4556-af4d-28e56dc56d49"
      },
      "source": [
        "try:\n",
        " a = int(input(\"Masukkan sebuah bilangan positif: \"))\n",
        " if a <= 0:\n",
        "  raise ValueError(\"Itu bukan bilangan positif!\")\n",
        "except ValueError as ve:\n",
        " print(ve)"
      ],
      "execution_count": 39,
      "outputs": [
        {
          "output_type": "stream",
          "text": [
            "Masukkan sebuah bilangan positif: -3\n",
            "Itu bukan bilangan positif!\n"
          ],
          "name": "stdout"
        }
      ]
    }
  ]
}